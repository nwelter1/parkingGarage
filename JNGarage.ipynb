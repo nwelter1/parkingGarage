{
 "cells": [
  {
   "cell_type": "code",
   "execution_count": 1,
   "metadata": {},
   "outputs": [],
   "source": [
    "from IPython.display import clear_output\n",
    "\n",
    "\n",
    "class Garage(): \n",
    "    def __init__(self,tickets,parkingSpaces,currentTicket):\n",
    "        self.tickets = tickets\n",
    "        self.parkingSpaces = parkingSpaces\n",
    "        self.currentTicket = currentTicket\n",
    "    \n",
    "    def takeTicket(self):\n",
    "        clear_output()\n",
    "        if self.tickets == []:\n",
    "            print('Sorry garage is currently full')\n",
    "        else:\n",
    "            self.currentTicket[self.tickets[0]] = ''\n",
    "            print(f'Please take ticket {self.tickets[0]}')\n",
    "            del self.tickets[0]\n",
    "            del self.parkingSpaces[0]\n",
    "            print(self.currentTicket)\n",
    "            print(f\"Available tickets {self.tickets}\")\n",
    "            print(f\"Available spaces {self.parkingSpaces}\")\n",
    "\n",
    "    def payForParking(self):\n",
    "        clear_output()\n",
    "        response = int(input('Please enter your ticket number:'))\n",
    "        if response < 1 or response > 10:\n",
    "            print('Invalid ticket number')\n",
    "        else:\n",
    "            if self.currentTicket[response] == '':\n",
    "                print('Please pay for your ticket...')\n",
    "                payment = input('Press any key to pay..')\n",
    "                self.currentTicket[response] = 'paid'\n",
    "                print(self.currentTicket)\n",
    "            else:\n",
    "                print('You have 15 min 2 leave')\n",
    "                \n",
    "            \n",
    "    def leaveGarage(self):\n",
    "        clear_output()\n",
    "        response = int(input('Please scan your ticket:'))\n",
    "        if self.currentTicket[response] == 'paid':\n",
    "            print('Thank you have a nice day')\n",
    "            self.tickets.insert(0, response)\n",
    "            self.parkingSpaces.insert(0, response)\n",
    "            del self.currentTicket[response]\n",
    "            print(f\"Available tickets {self.tickets}\")\n",
    "            print(f\"Available spaces {self.parkingSpaces}\")\n",
    "            \n",
    "        else: \n",
    "            print('Please pay before exiting')\n",
    "            \n",
    "            \n",
    "def runGarage():\n",
    "    p_garage = Garage([1,2, 3, 4, 5,6,7, 8, 9, 10],[1,2, 3, 4, 5,6,7, 8, 9, 10],{})\n",
    "    response = input('Welcome to Wabash Parking, would you like to park your car? Yes or No?')\n",
    "    if response.lower() == 'no':\n",
    "        print('Okay, have a nice day!')\n",
    "    elif response.lower() == 'yes':\n",
    "        p_garage.takeTicket()\n",
    "    while True:\n",
    "        response = input('What would you like to do? Park, Pay, Leave?')\n",
    "        if response.lower() == 'park': \n",
    "            p_garage.takeTicket()\n",
    "        elif response.lower() == 'pay':\n",
    "            p_garage.payForParking()\n",
    "        elif response.lower() == 'leave':\n",
    "            p_garage.leaveGarage()\n",
    "        # Usually a parking garage would run nonstop... \n",
    "        # added quit functionality for the sake of this example\n",
    "        elif response.lower() == 'quit':\n",
    "            break\n",
    "    "
   ]
  },
  {
   "cell_type": "markdown",
   "metadata": {},
   "source": [
    "# Parking Garage Project\n",
    "\n",
    "Your assignment for today is to create a parking garage class to get more familiar with Object Oriented Programming(OOP). \n",
    "\n",
    "Your parking gargage class should have the following methods:\n",
    "- takeTicket\n",
    "   - This should decrease the amount of tickets available by 1\n",
    "   - This should decrease the amount of parkingSpaces available by 1\n",
    "- payForParking\n",
    "   - Display an input that waits for an amount from the user and store it in a variable\n",
    "   - If the payment variable is not empty then ->  display a message to the user that their ticket has been paid and they have 15mins to leave\n",
    "   - This should update the \"currentTicket\" dictionary key \"paid\" to True\n",
    "-leaveGarage\n",
    "   - If the ticket has been paid, display a message of \"Thank You, have a nice day\"\n",
    "   - If the ticket has not been paid, display an input prompt for payment\n",
    "      - Once paid, display message \"Thank you, have a nice day!\"\n",
    "   - Update parkingSpaces list to increase by 1\n",
    "   - Update tickets list to increase by 1\n",
    "\n",
    "You will need a few attributes as well:\n",
    "- tickets -> list\n",
    "- parkingSpaces -> list\n",
    "- currentTicket -> dictionary"
   ]
  },
  {
   "cell_type": "code",
   "execution_count": 3,
   "metadata": {},
   "outputs": [
    {
     "name": "stdout",
     "output_type": "stream",
     "text": [
      "Please take ticket 6\n",
      "{2: '', 1: '', 4: '', 3: '', 5: '', 7: '', 8: '', 9: '', 10: '', 6: ''}\n",
      "Available tickets []\n",
      "Available spaces []\n",
      "What would you like to do? Park, Pay, Leave?quit\n"
     ]
    }
   ],
   "source": [
    "runGarage()"
   ]
  }
 ],
 "metadata": {
  "kernelspec": {
   "display_name": "Python 3",
   "language": "python",
   "name": "python3"
  },
  "language_info": {
   "codemirror_mode": {
    "name": "ipython",
    "version": 3
   },
   "file_extension": ".py",
   "mimetype": "text/x-python",
   "name": "python",
   "nbconvert_exporter": "python",
   "pygments_lexer": "ipython3",
   "version": "3.7.6"
  }
 },
 "nbformat": 4,
 "nbformat_minor": 2
}
